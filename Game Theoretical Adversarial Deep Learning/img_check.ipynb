{
 "cells": [
  {
   "cell_type": "code",
   "execution_count": 28,
   "id": "initial_id",
   "metadata": {
    "collapsed": true,
    "ExecuteTime": {
     "end_time": "2024-05-02T15:18:07.693190500Z",
     "start_time": "2024-05-02T15:18:07.687242Z"
    }
   },
   "outputs": [],
   "source": [
    "import numpy as np\n",
    "import cv2\n",
    "\n",
    "def get_numpy_array_for_image(image_path):\n",
    "    img = cv2.imread(image_path)\n",
    "    \n",
    "    img = list(img)\n",
    "    for i in range(len(img)):\n",
    "        img[i] = list(img[i])\n",
    "        for j in range(len(img[i])):\n",
    "            img[i][j] = list(img[i][j])\n",
    "    \n",
    "    for i in range(len(img)):\n",
    "        for j in range(len(img[i])):\n",
    "            img[i][j] = img[i][j][0]\n",
    "            img[i][j] = 255 - img[i][j]\n",
    "            \n",
    "    for i in range(len(img)):\n",
    "        img[i] = np.array(img[i])\n",
    "        for j in range(len(img[i])):\n",
    "            img[i][j] = np.array(img[i][j])\n",
    "    img = np.array(img)\n",
    "    \n",
    "    return img"
   ]
  },
  {
   "cell_type": "code",
   "outputs": [
    {
     "name": "stdout",
     "output_type": "stream",
     "text": [
      "<class 'numpy.ndarray'>\n",
      "(40, 30)\n"
     ]
    },
    {
     "data": {
      "text/plain": "array([[17,  0,  0, ...,  0,  0,  0],\n       [17,  0,  0, ...,  0,  0,  0],\n       [17,  0,  0, ...,  0,  0,  0],\n       ...,\n       [17,  0, 34, ...,  0,  0,  0],\n       [17,  0, 30, ...,  0,  0,  0],\n       [17,  0,  0, ...,  0,  0,  0]])"
     },
     "execution_count": 29,
     "metadata": {},
     "output_type": "execute_result"
    }
   ],
   "source": [
    "img = get_numpy_array_for_image(\"data/images/image_0_grayscale.png\")\n",
    "print(type(img))\n",
    "print(img.shape)\n",
    "img\n",
    "\n",
    "# original image 360x480"
   ],
   "metadata": {
    "collapsed": false,
    "ExecuteTime": {
     "end_time": "2024-05-02T15:18:10.135457900Z",
     "start_time": "2024-05-02T15:18:10.123658300Z"
    }
   },
   "id": "345d9f1743568e6f",
   "execution_count": 29
  }
 ],
 "metadata": {
  "kernelspec": {
   "display_name": "Python 3",
   "language": "python",
   "name": "python3"
  },
  "language_info": {
   "codemirror_mode": {
    "name": "ipython",
    "version": 2
   },
   "file_extension": ".py",
   "mimetype": "text/x-python",
   "name": "python",
   "nbconvert_exporter": "python",
   "pygments_lexer": "ipython2",
   "version": "2.7.6"
  }
 },
 "nbformat": 4,
 "nbformat_minor": 5
}
